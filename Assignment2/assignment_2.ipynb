{
  "cells": [
    {
      "cell_type": "markdown",
      "metadata": {
        "id": "0tiK-zTK7f0O"
      },
      "source": [
        "# Assignment 2: Language Modelling in Hangman"
      ]
    },
    {
      "cell_type": "markdown",
      "metadata": {
        "collapsed": true,
        "id": "ehzsk4dR7f0P",
        "jupyter": {
          "outputs_hidden": true
        }
      },
      "source": [
        "Student Name: Hao Tian\n",
        "\n",
        "Student ID: 1342982"
      ]
    },
    {
      "cell_type": "markdown",
      "metadata": {
        "id": "e2Sy6D8G7f0P"
      },
      "source": [
        "## General info"
      ]
    },
    {
      "cell_type": "markdown",
      "metadata": {
        "id": "-METueZk7f0P"
      },
      "source": [
        "<b>Due date</b>: Wednesday, 9 April 2025 1pm\n",
        "\n",
        "<b>Submission method</b>: Canvas submission\n",
        "\n",
        "<b>Submission materials</b>: completed copy of this iPython notebook\n",
        "\n",
        "<b>Late submissions</b>: -20% per day (both week and weekend days counted)\n",
        "\n",
        "<b>Marks</b>: 8% of mark for class (with 7% on correctness + 1% on quality and efficiency of your code)\n",
        "\n",
        "<b>Materials</b>: See \"Using Jupyter Notebook and Python on Google Colab\" page on Canvas (under Modules>Resources) for information on how to use Google Colab to use Jupyter Notebook. We recommend installing all the data for NLTK, since you will need various parts of it to complete this assignment. You can also use any Python built-in packages, but do not use any other 3rd party packages, <b> except </b> Numpy, Scipy, Matplotlib, Scikit-Learn, Gensim, Keras and Pytorch. You must export your Colab notebook and submit it to the LMS. If your notebook doesn't run, you will lose marks. <b> You should use the Python version that's on Google Colab (3.11)</b>.  \n",
        "\n",
        "To familiarize yourself with NLTK, here is a free online book:  Steven Bird, Ewan Klein, and Edward Loper (2009). <a href=https://www.nltk.org/book/>Natural Language Processing with Python</a>. O'Reilly Media Inc. You may also consult the <a href=https://www.nltk.org/api/nltk.html>NLTK API</a>.\n",
        "\n",
        "<b>Evaluation</b>: Your iPython notebook should run end-to-end without any errors in a reasonable amount of time, and you must follow all instructions provided below, including specific implementation requirements and instructions for what needs to be printed (please avoid printing output we don't ask for). You should edit the sections below where requested, but leave the rest of the code as is. You should leave the output from running your code in the iPython notebook you submit, to assist with marking. The amount each question is worth is explicitly given.\n",
        "\n",
        "You will be marked not only on the correctness of your methods, but also the quality and efficency of your code: in particular, you should be careful to use Python built-in functions and operators when appropriate and pick descriptive variable names that adhere to <a href=\"https://www.python.org/dev/peps/pep-0008/\">Python style requirements</a>. If you think it might be unclear what you are doing, you should comment your code to help the marker make sense of it.\n",
        "\n",
        "<b>Updates</b>: Any major changes to the assignment will be announced via Canvas. Minor changes and clarifications will be announced on the discussion board; we recommend you check it regularly.\n",
        "\n",
        "<b>Academic misconduct</b>: For most people, collaboration will form a natural part of the undertaking of this homework, and we encourge you to discuss it in general terms with other students. However, this ultimately is still an individual task, and so reuse of code or other instances of clear influence will be considered cheating. We will be checking submissions for originality and will invoke the University’s <a href=\"http://academichonesty.unimelb.edu.au/policy.html\">Academic Misconduct policy</a> where inappropriate levels of collusion or plagiarism are deemed to have taken place. You <b> must not </b> use artifial intelligence tools for doing the assignment, as all work submitted by a student should be their own, as clarified <a href=\"https://academicintegrity.unimelb.edu.au/plagiarism-and-collusion/artificial-intelligence-tools-and-technologies\">here</a>."
      ]
    },
    {
      "cell_type": "markdown",
      "metadata": {
        "id": "NlcB6nbH7f0P"
      },
      "source": [
        "# Overview\n",
        "\n",
        "In this homework, you'll be creating an 'artificial intelligence' player for the classic Hangman word guessing game. You will need to implement several different automatic strategies based on character-level n-gram language models. Your objective is to create an automatic player which makes the fewest mistakes."
      ]
    },
    {
      "cell_type": "markdown",
      "metadata": {
        "id": "lILgwTgY7f0P"
      },
      "source": [
        "# The Hangman Game (7 marks)"
      ]
    },
    {
      "cell_type": "markdown",
      "metadata": {
        "id": "L2Hv3dHH7f0P"
      },
      "source": [
        "**Instructions**: The <a href=\"https://en.wikipedia.org/wiki/Hangman_(game)\">Hangman game</a> is a simple game whereby one person thinks of a word, which they keep secret from their opponent, who tries to guess the word one character at a time. The game ends when the opponent makes more than a fixed number of incorrect guesses, or they figure out the secret word before then (in which case they *win*).\n",
        "\n",
        "Here's a simple version of the game. **No implementation is needed.**"
      ]
    },
    {
      "cell_type": "code",
      "execution_count": 18,
      "metadata": {
        "id": "xlegoN8A7f0Q"
      },
      "outputs": [],
      "source": [
        "def hangman(secret_word, guesser, max_mistakes=8, verbose=True, **guesser_args):\n",
        "    \"\"\"\n",
        "        This function plays the hangman game with the provided guesser and returns the number of incorrect guesses.\n",
        "\n",
        "        secret_word: a string of lower-case alphabetic characters, i.e., the answer to the game\n",
        "        guesser: a function which guesses the next character at each stage in the game\n",
        "            The function takes a:\n",
        "                mask: what is known of the word, as a string with _ denoting an unknown character\n",
        "                guessed: the set of characters which already been guessed in the game\n",
        "                guesser_args: additional (optional) keyword arguments, i.e., name=value\n",
        "        max_mistakes: limit on length of game, in terms of number of allowed mistakes\n",
        "        verbose: silent or verbose diagnostic prints\n",
        "        guesser_args: keyword arguments to pass directly to the guesser function\n",
        "    \"\"\"\n",
        "    secret_word = secret_word.lower()\n",
        "    mask = ['_'] * len(secret_word)\n",
        "    guessed = set()\n",
        "    if verbose:\n",
        "        print(\"Starting hangman game. Target is\", ' '.join(mask), 'length', len(secret_word))\n",
        "\n",
        "    mistakes = 0\n",
        "    while mistakes < max_mistakes:\n",
        "        if verbose:\n",
        "            print(\"You have\", (max_mistakes-mistakes), \"attempts remaining.\")\n",
        "        guess = guesser(mask, guessed, **guesser_args)\n",
        "\n",
        "        if verbose:\n",
        "            print('Guess is', guess)\n",
        "        if guess in guessed:\n",
        "            if verbose:\n",
        "                print('Already guessed this before.')\n",
        "            mistakes += 1\n",
        "        else:\n",
        "            guessed.add(guess)\n",
        "            if guess in secret_word and len(guess) == 1:\n",
        "                for i, c in enumerate(secret_word):\n",
        "                    if c == guess:\n",
        "                        mask[i] = c\n",
        "                if verbose:\n",
        "                    print('Good guess:', ' '.join(mask))\n",
        "            else:\n",
        "                if len(guess) != 1:\n",
        "                    print('Please guess with only 1 character.')\n",
        "                if verbose:\n",
        "                    print('Sorry, try again.')\n",
        "                mistakes += 1\n",
        "\n",
        "        if '_' not in mask:\n",
        "            if verbose:\n",
        "                print('Congratulations, you won.')\n",
        "            return mistakes\n",
        "\n",
        "    if verbose:\n",
        "        print('Out of guesses. The word was', secret_word)\n",
        "    return mistakes"
      ]
    },
    {
      "cell_type": "markdown",
      "metadata": {
        "id": "Or2Hvt5j7f0Q"
      },
      "source": [
        "Here is a human guesser allowing interactive play."
      ]
    },
    {
      "cell_type": "code",
      "execution_count": 19,
      "metadata": {
        "id": "7Q5e5DRk7f0Q"
      },
      "outputs": [],
      "source": [
        "def human(mask, guessed, **kwargs):\n",
        "    \"\"\"\n",
        "    This is a simple function for manual play.\n",
        "    \"\"\"\n",
        "    print('\\nEnter your guess:')\n",
        "    return input().lower().strip()"
      ]
    },
    {
      "cell_type": "markdown",
      "metadata": {
        "id": "07rvXy2n7f0Q"
      },
      "source": [
        "If you want to play hangman interactively, please set `interactive` to `True`. When submitting your solution, set to `False` so we can automatically run the whole notebook using `Run All`."
      ]
    },
    {
      "cell_type": "code",
      "execution_count": 20,
      "metadata": {
        "id": "beYS6Bx77f0Q"
      },
      "outputs": [],
      "source": [
        "interactive = False"
      ]
    },
    {
      "cell_type": "markdown",
      "metadata": {
        "id": "A-VwVzLW7f0Q"
      },
      "source": [
        "<b>For your testing:</b>\n",
        "\n",
        "You can play the game interactively using the following command:"
      ]
    },
    {
      "cell_type": "code",
      "execution_count": 21,
      "metadata": {
        "id": "U5-SB3AZ7f0Q"
      },
      "outputs": [],
      "source": [
        "if interactive:\n",
        "    hangman('whatever', human, 8, True)"
      ]
    },
    {
      "cell_type": "markdown",
      "metadata": {
        "collapsed": true,
        "id": "SSRmCF6E7f0Q",
        "jupyter": {
          "outputs_hidden": true
        }
      },
      "source": [
        "### Question 1 (1.0 mark)\n",
        "\n",
        "**Instructions**: We will use the words in NLTK's Brown corpus for training an artificial intelligence guessing algorithm, and for evaluating the quality of the algorithm.\n",
        "\n",
        "Your first task is to compute the number of **unique word types** occurring in the Brown corpus, using `nltk.corpus.brown` and the `words` method, and select only words that are **entirely comprised of alphabetic characters**. You should also **lowercase the words**. Finally, randomly shuffle (`numpy.random.shuffle`) this collection of word types, and split them into disjoint training and testing sets. The test set should contain 1000 word types, and the rest should be in the  training set. Note that we are intentionally making the hangman game hard, as the AI will need to cope with test words that it has not seen before, hence it will need to learn generalisable patterns of characters to make reasonable predictions.\n",
        "\n",
        "**Task**: Collect all unique word types from the Brown corpus, and produce `training_set` and `test_set`, 2 lists that contain 2 disjointed sets of words. Both `training_set` and `test_set` should be a python `list` (as initialised in the code). `test_set` must contain exactly 1000 word types.\n",
        "\n",
        "**Check**: Use the assertion statements in <b>\"For your testing\"</b> below for the expected output."
      ]
    },
    {
      "cell_type": "code",
      "execution_count": 22,
      "metadata": {
        "colab": {
          "base_uri": "https://localhost:8080/"
        },
        "id": "NpuP4Mqr7f0Q",
        "outputId": "055da288-63ae-4204-a419-9959703f9009"
      },
      "outputs": [
        {
          "name": "stderr",
          "output_type": "stream",
          "text": [
            "[nltk_data] Downloading package brown to /root/nltk_data...\n",
            "[nltk_data]   Package brown is already up-to-date!\n"
          ]
        },
        {
          "name": "stdout",
          "output_type": "stream",
          "text": [
            "Number of word types in test = 1000\n",
            "Number of word types in train = 39234\n"
          ]
        }
      ],
      "source": [
        "import nltk\n",
        "from nltk.corpus import brown\n",
        "import numpy as np\n",
        "\n",
        "nltk.download('brown')\n",
        "np.random.seed(1)\n",
        "\n",
        "# training_set stores the rest word types for training\n",
        "training_set = []\n",
        "# test_set stores 1000 word types for testing\n",
        "test_set = []\n",
        "\n",
        "\n",
        "###\n",
        "# Your answer BEGINS HERE\n",
        "###\n",
        "\n",
        "# Step 1 :get all words from the brown corpus\n",
        "all_words = brown.words()\n",
        "\n",
        "# Step 2 : lowercase all words & remove non-alphabetic characters\n",
        "all_words = [word.lower() for word in all_words if word.isalpha()]\n",
        "\n",
        "# Step 3 : get word types\n",
        "words_types = list(set(all_words))\n",
        "\n",
        "# Step 4 : randomly shuffle the words\n",
        "np.random.shuffle(words_types)\n",
        "\n",
        "# Step 5 : split the words into training and test sets\n",
        "test_set = words_types[:1000]\n",
        "training_set = words_types[1000:]\n",
        "\n",
        "###\n",
        "# Your answer ENDS HERE\n",
        "###\n",
        "\n",
        "print(\"Number of word types in test =\", len(test_set))\n",
        "print(\"Number of word types in train =\", len(training_set))"
      ]
    },
    {
      "cell_type": "markdown",
      "metadata": {
        "id": "b0FFJECY7f0R"
      },
      "source": [
        "<b>For your testing:</b>"
      ]
    },
    {
      "cell_type": "code",
      "execution_count": 23,
      "metadata": {
        "id": "_Mj9LEH67f0R"
      },
      "outputs": [],
      "source": [
        "assert(len(training_set) > 35000 and len(training_set) < 45000)\n",
        "assert(len(test_set) == 1000)"
      ]
    },
    {
      "cell_type": "markdown",
      "metadata": {
        "id": "EwO65pvE7f0R"
      },
      "source": [
        "**Play the game**:\n",
        "\n",
        "Let's see how good you are at this game! Try to guess a random word from the test set. It is surprisingly difficult (and addictive)! Don't forget to set `interactive = True`."
      ]
    },
    {
      "cell_type": "code",
      "execution_count": 24,
      "metadata": {
        "id": "_UPsCUq87f0R"
      },
      "outputs": [],
      "source": [
        "#play hangman using random words from test set\n",
        "if interactive:\n",
        "    hangman(np.random.choice(test_set), human, 8, True)"
      ]
    },
    {
      "cell_type": "markdown",
      "metadata": {
        "id": "ddakWAxG7f0R"
      },
      "source": [
        "### Question 2 (0.5 mark)\n",
        "\n",
        "**Instructions**: To set a baseline, your first AI attempt will be a trivial **random method**. For this you should implement a guessing method, similar to the `human` method above, i.e., using the same input arguments and returning a character. Your method should randomly choose a character from the range `a ... z` after excluding the characters that have already been guessed in the current game (all subsequent AI approaches should also exclude previous guesses).\n",
        "\n",
        "To help you measure the performance of this (and later) guesser, a `test_guesser` method that takes a guesser and measures the average number of incorrect guesses made over all the words in the `test` is provided to you.\n",
        "\n",
        "**Task**: Complete the `random_guesser` method. It should return a random character from the English alphabets.\n",
        "\n",
        "**Check**: Use the assertion statements in <b>\"For your testing\"</b> below for the expected output."
      ]
    },
    {
      "cell_type": "code",
      "execution_count": 25,
      "metadata": {
        "id": "4NY8ULr37f0R"
      },
      "outputs": [],
      "source": [
        "def test_guesser(guesser, test):\n",
        "    \"\"\"\n",
        "        This function takes a guesser and measures the average number of incorrect guesses made over all the words in the test_set.\n",
        "    \"\"\"\n",
        "    total = 0\n",
        "    for word in test:\n",
        "        total += hangman(word, guesser, 26, False)\n",
        "    return total / float(len(test))"
      ]
    },
    {
      "cell_type": "code",
      "execution_count": 26,
      "metadata": {
        "colab": {
          "base_uri": "https://localhost:8080/"
        },
        "id": "48Ya2m7v7f0R",
        "outputId": "609c8cf3-dbbe-4a78-9cfd-a7bbe4bc9026"
      },
      "outputs": [
        {
          "name": "stdout",
          "output_type": "stream",
          "text": [
            "Guessing word = mcintosh\n",
            "Number of mistakes made by the random guesser = 13\n",
            "\n",
            "Testing the random guesser using every word in test set\n",
            "Average number of incorrect guesses:  16.781\n"
          ]
        }
      ],
      "source": [
        "import string\n",
        "def random_guesser(mask, guessed, **kwargs):\n",
        "\n",
        "    ###\n",
        "    # Your answer BEGINS HERE\n",
        "    ###\n",
        "    letter_26_list = list(string.ascii_lowercase)\n",
        "    rest_characters = []\n",
        "\n",
        "    for character in letter_26_list:\n",
        "        if character not in guessed:\n",
        "            rest_characters.append(character)\n",
        "    return np.random.choice(rest_characters)\n",
        "    ###\n",
        "    # Your answer ENDS HERE\n",
        "    ###\n",
        "\n",
        "random_word = np.random.choice(test_set)\n",
        "print(\"Guessing word =\", random_word)\n",
        "print(\"Number of mistakes made by the random guesser =\", hangman(random_word, random_guesser, 26, False))\n",
        "\n",
        "result = test_guesser(random_guesser, test_set)\n",
        "print(\"\\nTesting the random guesser using every word in test set\")\n",
        "print(\"Average number of incorrect guesses: \", result)"
      ]
    },
    {
      "cell_type": "markdown",
      "metadata": {
        "id": "I1QPcjm07f0R"
      },
      "source": [
        "<b>For your testing:</b>"
      ]
    },
    {
      "cell_type": "code",
      "execution_count": 27,
      "metadata": {
        "id": "mFcYuUlQ7f0R"
      },
      "outputs": [],
      "source": [
        "assert(result > 10 and result < 20)"
      ]
    },
    {
      "cell_type": "markdown",
      "metadata": {
        "id": "0KvnfHT47f0R"
      },
      "source": [
        "### Question 3 (1.0 mark)\n",
        "\n",
        "**Instructions:** As your first real AI, you should train a **unigram language model** over the training set. This requires you to find the frequencies of characters over all training words. Using this model, you should write a guesser that returns the character with the highest probability. Remember to exclude already guessed characters.\n",
        "\n",
        "**Task**: Collect the frequencies of characters and store them in `unigram_counts` (use the first answer space). Complete the `unigram_guesser` method (use the second answer space). Note that it takes `unigram_counts` as an additional argument.\n",
        "\n",
        "**Check**: Use the assertion statements in <b>\"For your testing\"</b> below for the expected output."
      ]
    },
    {
      "cell_type": "code",
      "execution_count": 28,
      "metadata": {
        "colab": {
          "base_uri": "https://localhost:8080/"
        },
        "id": "k0qvkK9K7f0R",
        "outputId": "a07cf019-fa73-4284-a993-f5c60007c6dd"
      },
      "outputs": [
        {
          "name": "stdout",
          "output_type": "stream",
          "text": [
            "Testing the unigram guesser using every word in test set\n",
            "Average number of incorrect guesses:  10.348\n"
          ]
        }
      ],
      "source": [
        "unigram_counts = None\n",
        "from collections import Counter\n",
        "###\n",
        "# Your answer BEGINS HERE\n",
        "###\n",
        "\n",
        "\"\"\"\n",
        "In unigram model, we can skip computing actual probabilities\n",
        "to avoid more computational cost because dividing by the total count\n",
        "does not change the letters ranking.\n",
        "\"\"\"\n",
        "\n",
        "# Step 1 : get the frequency of each character in the training set\n",
        "unigram_counts = Counter()\n",
        "for word in training_set:\n",
        "    unigram_counts += Counter(word)\n",
        "###\n",
        "# Your answer ENDS HERE\n",
        "###\n",
        "def unigram_guesser(mask, guessed, unigram_counts=unigram_counts):\n",
        "\n",
        "    ###\n",
        "    # Your answer BEGINS HERE\n",
        "    ###\n",
        "    # Step 2 : sort the characters by their frequency\n",
        "    sorted_characters = unigram_counts.most_common()\n",
        "    for character, frequency in sorted_characters:\n",
        "        if character not in guessed:\n",
        "            return character\n",
        "    ###\n",
        "    # Your answer ENDS HERE\n",
        "    ###\n",
        "\n",
        "result = test_guesser(unigram_guesser, test_set)\n",
        "print(\"Testing the unigram guesser using every word in test set\")\n",
        "print(\"Average number of incorrect guesses: \", result)"
      ]
    },
    {
      "cell_type": "markdown",
      "metadata": {
        "id": "xMQAxUiT7f0R"
      },
      "source": [
        "<b>For your testing:</b>"
      ]
    },
    {
      "cell_type": "code",
      "execution_count": 29,
      "metadata": {
        "id": "wC7h8yTt7f0R"
      },
      "outputs": [],
      "source": [
        "assert(result > 5 and result < 15)"
      ]
    },
    {
      "cell_type": "markdown",
      "metadata": {
        "id": "e94vkNja7f0R"
      },
      "source": [
        "### Question 4 (1.0 mark)\n",
        "\n",
        "**Instructions:** The length of the secret word is an important clue that we might exploit. Different lengths tend to have different distributions over characters, e.g., short words are less likely to have suffixes or prefixes. You should incorporate this idea by conditioning the unigram model on the length of the secret word, i.e.,  having a **different unigram model for each length**. You will need to be a little careful at test time, to be robust to the situation that you encounter a word length that you didn't see in training. In such a case, your method should behave like the previous `unigram_guesser` in Question 3 (i.e., it guesses characters based on unigram frequencies, unconditioned by the word length).\n",
        "\n",
        "**Task**: Collect the frequencies of characters conditioned on the word length and store them in `unigram_counts_by_length` (use the first answer space). Complete the `unigram_length_guesser` method (use the second answer space).\n",
        "\n",
        "**Check**: Use the assertion statements in <b>\"For your testing\"</b> below for the expected output."
      ]
    },
    {
      "cell_type": "code",
      "execution_count": 30,
      "metadata": {
        "colab": {
          "base_uri": "https://localhost:8080/"
        },
        "id": "58LP9eTp7f0R",
        "outputId": "06428ccc-b380-46b5-d471-9d976ef2cfbe"
      },
      "outputs": [
        {
          "name": "stdout",
          "output_type": "stream",
          "text": [
            "Testing the length-conditioned unigram guesser using every word in test set\n",
            "Average number of incorrect guesses:  10.318\n"
          ]
        }
      ],
      "source": [
        "unigram_counts_by_length = None\n",
        "from collections import defaultdict, Counter\n",
        "\n",
        "###\n",
        "# Your answer BEGINS HERE\n",
        "###\n",
        "\n",
        "# get a dictionary of character frequency based on word length\n",
        "unigram_counts_by_length = defaultdict(Counter)\n",
        "for word in training_set:\n",
        "    unigram_counts_by_length[len(word)] += Counter(word)\n",
        "\n",
        "unigram_counts = Counter()\n",
        "for word in training_set:\n",
        "    unigram_counts += Counter(word)\n",
        "###\n",
        "# Your answer ENDS HERE\n",
        "###\n",
        "\n",
        "def unigram_length_guesser(mask, guessed, unigram_counts_by_length=unigram_counts_by_length, unigram_counts=unigram_counts):\n",
        "    ###\n",
        "    # Your answer BEGINS HERE\n",
        "    ###\n",
        "    word_length = len(mask)  # get the length of the word\n",
        "\n",
        "    # check if the word length is in the dictionary\n",
        "    if word_length in unigram_counts_by_length.keys():\n",
        "         # sorted letters by frequency\n",
        "        sorted_counts = unigram_counts_by_length[word_length].most_common()\n",
        "        for each_character, frequency in sorted_counts:\n",
        "            if each_character not in guessed:\n",
        "                return each_character\n",
        "        # trace if no more new chars for this len & return the most frequent\n",
        "        return unigram_guesser(mask, guessed, unigram_counts)\n",
        "    ###\n",
        "    # Your answer ENDS HERE\n",
        "    ###\n",
        "\n",
        "result = test_guesser(unigram_length_guesser, test_set)\n",
        "print(\"Testing the length-conditioned unigram guesser using every word in test set\")\n",
        "print(\"Average number of incorrect guesses: \", result)"
      ]
    },
    {
      "cell_type": "markdown",
      "metadata": {
        "id": "ysXtx6kA7f0R"
      },
      "source": [
        "<b>For your testing:</b>"
      ]
    },
    {
      "cell_type": "code",
      "execution_count": 31,
      "metadata": {
        "id": "wTv_YMRh7f0S"
      },
      "outputs": [],
      "source": [
        "assert(result > 5 and result < 15)"
      ]
    },
    {
      "cell_type": "markdown",
      "metadata": {
        "id": "nODQf7dw7f0S"
      },
      "source": [
        "### Question 5 (1.0 mark)\n",
        "\n",
        "**Instructions:** Now for the next challenge, you'll build a **bigram language model** over characters. The order of characters is obviously important, yet this wasn't incorporated in any of the above models. Knowing that the word has the sequence `n _ s s` is a pretty strong clue that the missing character might be `e`. Similarly the distribution over characters that start or end a word are highly biased (e.g., toward common prefixes and suffixes, like *un-*, *-ed* and *-ly*).\n",
        "\n",
        "The task here is to develop a bigram language model over characters, and train it over the training words. Remember to be careful when handling the start of each word properly, e.g., by padding with a special starting symbol such as `$`. Do we also need a special ending symbol? That's for you to decide.\n",
        "\n",
        "Your bigram guesser should apply your language model to each blank position in the secret word by using its left context character. For example, in the partial word `e _ c _ b _ _` we know the left context for the first three blanks, but have no known left context for the last blank. In the case for the last blank, you should revert to using a unigram language model (since there's no context for us to use the bigram model). You should sum up the probability distribution (over all alphabets from <i>a</i> to <i>z</i>) for the 4 blanks, and select the alphabet with the highest probability that hasn't been guessed.\n",
        "\n",
        "**Note**:\n",
        "- When backing-off to the unigram language model, you **must use the vanilla unigram language model that you have built in Q3**. Do not use the length-based unigram language model, or any fancy variant, or you will lose marks.\n",
        "- You should build a **standard bigram language model**; i.e. do not do anything complicated like a bidirectional bigram language model.\n",
        "\n",
        "**Task**: Collect frequency counts that are necessary for building a bigram language model and store them in bigram_counts; feel free to add new objects if needed (use the first answer space). Complete the `bigram_guesser` method (use the second answer space). Note that the method currently only has one additional argument (`bigram_counts`), but you are free to add additional arguments."
      ]
    },
    {
      "cell_type": "code",
      "execution_count": 32,
      "metadata": {
        "colab": {
          "base_uri": "https://localhost:8080/"
        },
        "id": "GmKh7wJ87f0S",
        "outputId": "83b12ab8-fa11-4adc-fa31-45f76a5c2024"
      },
      "outputs": [
        {
          "name": "stdout",
          "output_type": "stream",
          "text": [
            "Testing the bigram guesser using every word in test set\n",
            "Average number of incorrect guesses:  8.59\n"
          ]
        }
      ],
      "source": [
        "bigram_counts = None\n",
        "import math\n",
        "import string\n",
        "from collections import defaultdict, Counter\n",
        "\n",
        "###\n",
        "# Your answer BEGINS HERE\n",
        "###\n",
        "\n",
        "# Step1(a). create a 2D dictionary to store the frequency of each character pair\n",
        "bigram_counts = defaultdict(Counter)\n",
        "\n",
        "# (b). add padding only on the beginning of bigram and get counts of each pair\n",
        "for word in training_set:\n",
        "    padded_word = '$' + word\n",
        "    for i in range(1, len(padded_word)):\n",
        "        pre_char = padded_word[i-1]\n",
        "        current_character = padded_word[i]\n",
        "        bigram_counts[pre_char][current_character] += 1\n",
        "\n",
        "###\n",
        "# Your answer ENDS HERE\n",
        "###\n",
        "\n",
        "def bigram_guesser(mask, guessed, bigram_counts=bigram_counts):  # add extra arguments if needed\n",
        "    ###\n",
        "    # Your answer BEGINS HERE\n",
        "    ###\n",
        "    mask = '$' + ''.join(mask)\n",
        "    probability_dictionary = defaultdict(float)\n",
        "\n",
        "    # 1. create letter list\n",
        "    character_list = list(string.ascii_lowercase)\n",
        "    rest_characters = list(set(character_list) - guessed)\n",
        "\n",
        "    # 2. get mask letter\n",
        "    for character in rest_characters:\n",
        "        for i in range(1, len(mask)):\n",
        "            pre_char = mask[i-1]\n",
        "            current_character = mask[i]\n",
        "\n",
        "            # judge whether character has been guessed\n",
        "            if current_character == '_':\n",
        "                if pre_char != '_':\n",
        "                    # get statistics W(i-1) & (Wi) joint Counts and W(i) counts\n",
        "\n",
        "                    # for those never seen word, 0 probability\n",
        "                    count_joint = bigram_counts.get(pre_char, 0)[character]\n",
        "\n",
        "                    # to avoid prob = 0 in bigram\n",
        "                    count_pre = sum(bigram_counts.get(pre_char, 1).values())\n",
        "                    probability = float(count_joint) / float(count_pre)\n",
        "\n",
        "                else:\n",
        "                    probability = (float(unigram_counts[character]) /\n",
        "                     float(sum(unigram_counts.values())))\n",
        "\n",
        "                probability_dictionary[character] += probability\n",
        "\n",
        "    return max(probability_dictionary, key=probability_dictionary.get)\n",
        "    ###\n",
        "    # Your answer ENDS HERE\n",
        "    ###\n",
        "\n",
        "result = test_guesser(bigram_guesser, test_set)\n",
        "print(\"Testing the bigram guesser using every word in test set\")\n",
        "print(\"Average number of incorrect guesses: \", result)\n",
        "\n"
      ]
    },
    {
      "cell_type": "markdown",
      "metadata": {
        "id": "B7ny3wAs7f0S"
      },
      "source": [
        "### Question 6 (2.0 mark)\n",
        "\n",
        "**Instructions:** You should try to develop a more effective AI for hangman. Feel free to engage your creativity here! Possibilities include better conditioning on the length of the word, fancier smoothing methods, ngram models and bidirectional models (lecture 8). Have fun!\n",
        "\n",
        "You will be marked based on the performance of your AI model, using a pre-made training and test set (created using a secret seed). Let x be the average number of mistakes in the test set, you will score:\n",
        "* 2.0 mark if x < 6.0\n",
        "* 1.5 mark if 6.0 <= x < 6.5\n",
        "* 1.0 mark if 6.5 <= x < 7.0\n",
        "* 0.5 mark if 7.0 <= x < 8.0\n",
        "* 0.0 mark if x >= 8.0\n",
        "\n",
        "Note:\n",
        "* When testing your AI model's performance, you may want to consider trying different training/test splits (using different seeds) to have a better understanding of its _average_ performance, as there will be some variance to its performance depending on the training/test split.\n",
        "* Your code must run under 2 minutes on Colab (free account) with GPU; program that runs longer than that will be terminated and you will score 0.\n",
        "\n",
        "**Task** Complete the `my_amazing_ai_guesser` method, which implements a better language model for hangman."
      ]
    },
    {
      "cell_type": "code",
      "execution_count": 33,
      "metadata": {
        "colab": {
          "base_uri": "https://localhost:8080/"
        },
        "id": "dU5ZCl7vLuKl",
        "outputId": "ea8edbbd-37f7-484d-be1d-ba49f9cbbdb3"
      },
      "outputs": [
        {
          "name": "stdout",
          "output_type": "stream",
          "text": [
            "Testing my amazing AI guesser using every word in test set\n",
            "Average number of incorrect guesses:  6.419\n"
          ]
        }
      ],
      "source": [
        "###\n",
        "# Your answer BEGINS HERE\n",
        "###\n",
        "\n",
        "from collections import defaultdict, Counter\n",
        "import string\n",
        "import random\n",
        "import math\n",
        "\n",
        "# Step 1: Initialize counts for 1,2,3,4 grams\n",
        "\n",
        "unigram_counts = Counter()\n",
        "\n",
        "# (a).Forward 1,2,3,4 grams count\n",
        "bigram_counts = defaultdict(Counter)\n",
        "trigram_counts = defaultdict(Counter)\n",
        "fourgram_counts = defaultdict(Counter)\n",
        "\n",
        "# (b). Reverse 1,2,3,4 grams count\n",
        "bigram_r_counts = defaultdict(Counter)\n",
        "trigram_r_counts = defaultdict(Counter)\n",
        "fourgram_r_counts = defaultdict(Counter)\n",
        "\n",
        "# Process each word in the training set to count N-grams\n",
        "for word in training_set:\n",
        "    unigram_counts.update(word)  # Update unigram counts\n",
        "\n",
        "    # Add pedding for forward 1,2,3,4 grams\n",
        "    padded = \"$$$\" + word + \"$\"\n",
        "    for i in range(1, len(padded)):\n",
        "        bigram_counts[padded[i - 1]][padded[i]] += 1\n",
        "    for i in range(2, len(padded)):\n",
        "        trigram_counts[padded[i - 2:i]][padded[i]] += 1\n",
        "    for i in range(3, len(padded)):\n",
        "        fourgram_counts[padded[i - 3:i]][padded[i]] += 1\n",
        "\n",
        "    # Add pedding for reverse 1,2,3,4 grams\n",
        "    reversed_word = word[::-1]\n",
        "    padded_rev = \"$$$\" + reversed_word + \"$\"\n",
        "    for i in range(1, len(padded_rev)):\n",
        "        bigram_r_counts[padded_rev[i - 1]][padded_rev[i]] += 1\n",
        "    for i in range(2, len(padded_rev)):\n",
        "        trigram_r_counts[padded_rev[i - 2:i]][padded_rev[i]] += 1\n",
        "    for i in range(3, len(padded_rev)):\n",
        "        fourgram_r_counts[padded_rev[i - 3:i]][padded_rev[i]] += 1\n",
        "\n",
        "def my_amazing_ai_guesser(mask, guessed):\n",
        "    padded = \"$$$\" + ''.join(mask) + \"$\"\n",
        "\n",
        "    # Weight balance between forward and reverse models\n",
        "    alpha = 0.5\n",
        "    smoothing = 0.15\n",
        "\n",
        "    # Dictionary to record scores for each candidate character\n",
        "    scores = defaultdict(float)\n",
        "\n",
        "    # List of the rest of unguessed characters\n",
        "    candidates = list(set(string.ascii_lowercase) - guessed)\n",
        "\n",
        "    # Function to calculate log probability of a character in a given context\n",
        "    def log_prob(counts, context, c):\n",
        "        return math.log((counts[context][c] + smoothing)\n",
        "        / (sum(counts[context].values()) + 26 * smoothing))\n",
        "\n",
        "    # Calculate scores for each candidate character\n",
        "    for c in candidates:\n",
        "        for i in range(3, len(padded) - 1):  # Start from the 4th character\n",
        "            if padded[i] != '_':  # Skip empty_place characters\n",
        "                continue\n",
        "\n",
        "            # Extract context for the character (left and right N-grams)\n",
        "            left4 = padded[i - 3:i]  # for 4-grams\n",
        "            left3 = left4[-3:]  # for 3-grams\n",
        "            left1 = left4[-1]  # for 2-grams\n",
        "\n",
        "            # Etract Reverse for character\n",
        "            right4 = padded[i + 1:i + 4][::-1]  # reverse 4-grams\n",
        "            right3 = right4[-3:]  # reverse 3-grams\n",
        "            right1 = right4[-1]  # reverse 2-grams\n",
        "\n",
        "            # Calculate probability using different N-grams based\n",
        "            # based on current known characters number\n",
        "\n",
        "            if '_' not in left4 and left4 in fourgram_counts:\n",
        "                left_prob = log_prob(fourgram_counts, left4, c)\n",
        "            elif '_' not in left3 and left3 in trigram_counts:\n",
        "                left_prob = log_prob(trigram_counts, left3, c)\n",
        "            elif left1 in bigram_counts:\n",
        "                left_prob = log_prob(bigram_counts, left1, c)\n",
        "            else:\n",
        "                left_prob = math.log((unigram_counts[c] + smoothing)\n",
        "                 / (sum(unigram_counts.values()) + 26 * smoothing))\n",
        "\n",
        "            if '_' not in right4 and right4 in fourgram_r_counts:\n",
        "                right_prob = log_prob(fourgram_r_counts, right4, c)\n",
        "            elif '_' not in right3 and right3 in trigram_r_counts:\n",
        "                right_prob = log_prob(trigram_r_counts, right3, c)\n",
        "            elif right1 in bigram_r_counts:\n",
        "                right_prob = log_prob(bigram_r_counts, right1, c)\n",
        "            else:\n",
        "                right_prob = math.log((unigram_counts[c] + smoothing)\n",
        "                 / (sum(unigram_counts.values()) + 26 * smoothing))\n",
        "\n",
        "            # the forward and reverse probabilities with same weight\n",
        "            scores[c] += alpha * left_prob + (1 - alpha) * right_prob\n",
        "\n",
        "    # Return the character with the highest score or choose randomly if no score\n",
        "    return max(scores, key=scores.get) if scores else random.choice(candidates)\n",
        "\n",
        "###\n",
        "# Your answer ENDS HERE\n",
        "###\n",
        "\n",
        "result = test_guesser(my_amazing_ai_guesser, test_set)\n",
        "print(\"Testing my amazing AI guesser using every word in test set\")\n",
        "print(\"Average number of incorrect guesses: \", result)\n"
      ]
    },
    {
      "cell_type": "markdown",
      "metadata": {
        "id": "wtxwgcAf7f0S"
      },
      "source": [
        "### Question 7 (0.5 mark)\n",
        "\n",
        "**Instructions:** Explain your approach and discuss your result below. Please keep your explanation to a short paragraph."
      ]
    },
    {
      "cell_type": "markdown",
      "metadata": {
        "id": "B6Ka7UBr7f0S"
      },
      "source": [
        "##### Your answer BEGINS HERE\n",
        "\n",
        "#### 1. Approach Clarification & Result:\n",
        "\n",
        "##### (a). My approach uses a bi-directional N-gram model (forward and reverse) for character prediction, based on surrounding context. In the preprocessing step, I pad each word with special characters ($$$) to account for boundaries and then calculate the 1-gram, 2-gram, 3-gram, and 4-gram probabilities in both forward and reverse directions.  These probabilities are then used to estimate the likelihood of each unguessed character.\n",
        "\n",
        "##### (b). For each prediction, the algorithm preferentially matches the largest N-gram (i.e., starting with 4-gram and demoting to 3-gram, 2-gram, and 1-gram if there is no match) to obtain the most accurate context information. If no larger N-gram is matched, the algorithm uses a smaller N-gram to ensure that the context information is as complete as possible.\n",
        "\n",
        "#### 2. Hyper-parameter & Result:\n",
        "##### (a). I applied log-probability to avoid possible underflow problems caused by n-grams and smoothing to avoid zero probabilities for unseen N-grams. And the smoothing parameter (0.15) was tuned to balance between underfitting and overfitting. The combination of forward and reverse probabilities was calculated by the same weight importance, with alpha = 0.5 to balance the contribution of both directions. The character with the highest combined score is selected as the guess.\n",
        "\n",
        "##### (b). The Average number of incorrect guesses with seed=1 on Colab : 6.419\n",
        "\n",
        "\n",
        "##### Your answer ENDS HERE"
      ]
    }
  ],
  "metadata": {
    "anaconda-cloud": {},
    "colab": {
      "provenance": []
    },
    "kernelspec": {
      "display_name": "Python 3 (ipykernel)",
      "language": "python",
      "name": "python3"
    },
    "language_info": {
      "codemirror_mode": {
        "name": "ipython",
        "version": 3
      },
      "file_extension": ".py",
      "mimetype": "text/x-python",
      "name": "python",
      "nbconvert_exporter": "python",
      "pygments_lexer": "ipython3",
      "version": "3.12.4"
    }
  },
  "nbformat": 4,
  "nbformat_minor": 0
}
